{
 "cells": [
  {
   "cell_type": "code",
   "execution_count": 1,
   "metadata": {},
   "outputs": [],
   "source": [
    "import sagemaker\n",
    "import os"
   ]
  },
  {
   "cell_type": "markdown",
   "metadata": {},
   "source": [
    "# 设置相关信息"
   ]
  },
  {
   "cell_type": "code",
   "execution_count": 2,
   "metadata": {},
   "outputs": [
    {
     "name": "stdout",
     "output_type": "stream",
     "text": [
      "sagemaker-us-east-2-069799604450\n"
     ]
    }
   ],
   "source": [
    "sess = sagemaker.Session()\n",
    "bucket = sess.default_bucket()\n",
    "print(bucket)"
   ]
  },
  {
   "cell_type": "markdown",
   "metadata": {},
   "source": [
    "# 创建SageMaker模型，导入模型脚本，设置超参数等"
   ]
  },
  {
   "cell_type": "code",
   "execution_count": 42,
   "metadata": {},
   "outputs": [],
   "source": [
    "from sagemaker.tensorflow import TensorFlow\n",
    "hyperparameters = {'epochs': 1, 'batch_size': 200}\n",
    "estimator = TensorFlow(entry_point='tf_mnist.py',\n",
    "                       source_dir='script',\n",
    "                       train_instance_type='ml.p3.2xlarge',\n",
    "                       train_instance_count=1,\n",
    "                       hyperparameters=hyperparameters,\n",
    "                       role=sagemaker.get_execution_role(),\n",
    "                       framework_version='1.14',\n",
    "                       py_version='py3',\n",
    "                       script_mode=True)"
   ]
  },
  {
   "cell_type": "markdown",
   "metadata": {},
   "source": [
    "# 训练模型"
   ]
  },
  {
   "cell_type": "code",
   "execution_count": 43,
   "metadata": {},
   "outputs": [
    {
     "name": "stdout",
     "output_type": "stream",
     "text": [
      "2019-08-08 04:03:54 Starting - Starting the training job...\n",
      "2019-08-08 04:03:56 Starting - Launching requested ML instances......\n",
      "2019-08-08 04:04:59 Starting - Preparing the instances for training...\n",
      "2019-08-08 04:05:48 Downloading - Downloading input data...\n",
      "2019-08-08 04:05:59 Training - Downloading the training image......\n",
      "2019-08-08 04:07:22 Uploading - Uploading generated training model\n",
      "\u001b[31m/usr/local/lib/python3.6/site-packages/tensorflow/python/framework/dtypes.py:516: FutureWarning: Passing (type, 1) or '1type' as a synonym of type is deprecated; in a future version of numpy, it will be understood as (type, (1,)) / '(1,)type'.\n",
      "  _np_qint8 = np.dtype([(\"qint8\", np.int8, 1)])\u001b[0m\n",
      "\u001b[31m/usr/local/lib/python3.6/site-packages/tensorflow/python/framework/dtypes.py:517: FutureWarning: Passing (type, 1) or '1type' as a synonym of type is deprecated; in a future version of numpy, it will be understood as (type, (1,)) / '(1,)type'.\n",
      "  _np_quint8 = np.dtype([(\"quint8\", np.uint8, 1)])\u001b[0m\n",
      "\u001b[31m/usr/local/lib/python3.6/site-packages/tensorflow/python/framework/dtypes.py:518: FutureWarning: Passing (type, 1) or '1type' as a synonym of type is deprecated; in a future version of numpy, it will be understood as (type, (1,)) / '(1,)type'.\n",
      "  _np_qint16 = np.dtype([(\"qint16\", np.int16, 1)])\u001b[0m\n",
      "\u001b[31m/usr/local/lib/python3.6/site-packages/tensorflow/python/framework/dtypes.py:519: FutureWarning: Passing (type, 1) or '1type' as a synonym of type is deprecated; in a future version of numpy, it will be understood as (type, (1,)) / '(1,)type'.\n",
      "  _np_quint16 = np.dtype([(\"quint16\", np.uint16, 1)])\u001b[0m\n",
      "\u001b[31m/usr/local/lib/python3.6/site-packages/tensorflow/python/framework/dtypes.py:520: FutureWarning: Passing (type, 1) or '1type' as a synonym of type is deprecated; in a future version of numpy, it will be understood as (type, (1,)) / '(1,)type'.\n",
      "  _np_qint32 = np.dtype([(\"qint32\", np.int32, 1)])\u001b[0m\n",
      "\u001b[31m/usr/local/lib/python3.6/site-packages/tensorflow/python/framework/dtypes.py:525: FutureWarning: Passing (type, 1) or '1type' as a synonym of type is deprecated; in a future version of numpy, it will be understood as (type, (1,)) / '(1,)type'.\n",
      "  np_resource = np.dtype([(\"resource\", np.ubyte, 1)])\u001b[0m\n",
      "\u001b[31m/usr/local/lib/python3.6/site-packages/tensorboard/compat/tensorflow_stub/dtypes.py:541: FutureWarning: Passing (type, 1) or '1type' as a synonym of type is deprecated; in a future version of numpy, it will be understood as (type, (1,)) / '(1,)type'.\n",
      "  _np_qint8 = np.dtype([(\"qint8\", np.int8, 1)])\u001b[0m\n",
      "\u001b[31m/usr/local/lib/python3.6/site-packages/tensorboard/compat/tensorflow_stub/dtypes.py:542: FutureWarning: Passing (type, 1) or '1type' as a synonym of type is deprecated; in a future version of numpy, it will be understood as (type, (1,)) / '(1,)type'.\n",
      "  _np_quint8 = np.dtype([(\"quint8\", np.uint8, 1)])\u001b[0m\n",
      "\u001b[31m/usr/local/lib/python3.6/site-packages/tensorboard/compat/tensorflow_stub/dtypes.py:543: FutureWarning: Passing (type, 1) or '1type' as a synonym of type is deprecated; in a future version of numpy, it will be understood as (type, (1,)) / '(1,)type'.\n",
      "  _np_qint16 = np.dtype([(\"qint16\", np.int16, 1)])\u001b[0m\n",
      "\u001b[31m/usr/local/lib/python3.6/site-packages/tensorboard/compat/tensorflow_stub/dtypes.py:544: FutureWarning: Passing (type, 1) or '1type' as a synonym of type is deprecated; in a future version of numpy, it will be understood as (type, (1,)) / '(1,)type'.\n",
      "  _np_quint16 = np.dtype([(\"quint16\", np.uint16, 1)])\u001b[0m\n",
      "\u001b[31m/usr/local/lib/python3.6/site-packages/tensorboard/compat/tensorflow_stub/dtypes.py:545: FutureWarning: Passing (type, 1) or '1type' as a synonym of type is deprecated; in a future version of numpy, it will be understood as (type, (1,)) / '(1,)type'.\n",
      "  _np_qint32 = np.dtype([(\"qint32\", np.int32, 1)])\u001b[0m\n",
      "\u001b[31m/usr/local/lib/python3.6/site-packages/tensorboard/compat/tensorflow_stub/dtypes.py:550: FutureWarning: Passing (type, 1) or '1type' as a synonym of type is deprecated; in a future version of numpy, it will be understood as (type, (1,)) / '(1,)type'.\n",
      "  np_resource = np.dtype([(\"resource\", np.ubyte, 1)])\u001b[0m\n",
      "\u001b[31m/usr/local/lib/python3.6/site-packages/tensorflow/python/framework/dtypes.py:516: FutureWarning: Passing (type, 1) or '1type' as a synonym of type is deprecated; in a future version of numpy, it will be understood as (type, (1,)) / '(1,)type'.\n",
      "  _np_qint8 = np.dtype([(\"qint8\", np.int8, 1)])\u001b[0m\n",
      "\u001b[31m/usr/local/lib/python3.6/site-packages/tensorflow/python/framework/dtypes.py:517: FutureWarning: Passing (type, 1) or '1type' as a synonym of type is deprecated; in a future version of numpy, it will be understood as (type, (1,)) / '(1,)type'.\n",
      "  _np_quint8 = np.dtype([(\"quint8\", np.uint8, 1)])\u001b[0m\n",
      "\u001b[31m/usr/local/lib/python3.6/site-packages/tensorflow/python/framework/dtypes.py:518: FutureWarning: Passing (type, 1) or '1type' as a synonym of type is deprecated; in a future version of numpy, it will be understood as (type, (1,)) / '(1,)type'.\n",
      "  _np_qint16 = np.dtype([(\"qint16\", np.int16, 1)])\u001b[0m\n",
      "\u001b[31m/usr/local/lib/python3.6/site-packages/tensorflow/python/framework/dtypes.py:519: FutureWarning: Passing (type, 1) or '1type' as a synonym of type is deprecated; in a future version of numpy, it will be understood as (type, (1,)) / '(1,)type'.\n",
      "  _np_quint16 = np.dtype([(\"quint16\", np.uint16, 1)])\u001b[0m\n",
      "\u001b[31m/usr/local/lib/python3.6/site-packages/tensorflow/python/framework/dtypes.py:520: FutureWarning: Passing (type, 1) or '1type' as a synonym of type is deprecated; in a future version of numpy, it will be understood as (type, (1,)) / '(1,)type'.\n",
      "  _np_qint32 = np.dtype([(\"qint32\", np.int32, 1)])\u001b[0m\n",
      "\u001b[31m/usr/local/lib/python3.6/site-packages/tensorflow/python/framework/dtypes.py:525: FutureWarning: Passing (type, 1) or '1type' as a synonym of type is deprecated; in a future version of numpy, it will be understood as (type, (1,)) / '(1,)type'.\n",
      "  np_resource = np.dtype([(\"resource\", np.ubyte, 1)])\u001b[0m\n",
      "\u001b[31m/usr/local/lib/python3.6/site-packages/tensorboard/compat/tensorflow_stub/dtypes.py:541: FutureWarning: Passing (type, 1) or '1type' as a synonym of type is deprecated; in a future version of numpy, it will be understood as (type, (1,)) / '(1,)type'.\n",
      "  _np_qint8 = np.dtype([(\"qint8\", np.int8, 1)])\u001b[0m\n",
      "\u001b[31m/usr/local/lib/python3.6/site-packages/tensorboard/compat/tensorflow_stub/dtypes.py:542: FutureWarning: Passing (type, 1) or '1type' as a synonym of type is deprecated; in a future version of numpy, it will be understood as (type, (1,)) / '(1,)type'.\n",
      "  _np_quint8 = np.dtype([(\"quint8\", np.uint8, 1)])\u001b[0m\n",
      "\u001b[31m/usr/local/lib/python3.6/site-packages/tensorboard/compat/tensorflow_stub/dtypes.py:543: FutureWarning: Passing (type, 1) or '1type' as a synonym of type is deprecated; in a future version of numpy, it will be understood as (type, (1,)) / '(1,)type'.\n",
      "  _np_qint16 = np.dtype([(\"qint16\", np.int16, 1)])\u001b[0m\n",
      "\u001b[31m/usr/local/lib/python3.6/site-packages/tensorboard/compat/tensorflow_stub/dtypes.py:544: FutureWarning: Passing (type, 1) or '1type' as a synonym of type is deprecated; in a future version of numpy, it will be understood as (type, (1,)) / '(1,)type'.\n",
      "  _np_quint16 = np.dtype([(\"quint16\", np.uint16, 1)])\u001b[0m\n",
      "\u001b[31m/usr/local/lib/python3.6/site-packages/tensorboard/compat/tensorflow_stub/dtypes.py:545: FutureWarning: Passing (type, 1) or '1type' as a synonym of type is deprecated; in a future version of numpy, it will be understood as (type, (1,)) / '(1,)type'.\n",
      "  _np_qint32 = np.dtype([(\"qint32\", np.int32, 1)])\u001b[0m\n",
      "\u001b[31m/usr/local/lib/python3.6/site-packages/tensorboard/compat/tensorflow_stub/dtypes.py:550: FutureWarning: Passing (type, 1) or '1type' as a synonym of type is deprecated; in a future version of numpy, it will be understood as (type, (1,)) / '(1,)type'.\n",
      "  np_resource = np.dtype([(\"resource\", np.ubyte, 1)])\u001b[0m\n",
      "\u001b[31mWARNING: Logging before flag parsing goes to stderr.\u001b[0m\n",
      "\u001b[31mW0808 04:07:13.065834 139813359998720 deprecation_wrapper.py:119] From tf_mnist.py:6: The name tf.logging.set_verbosity is deprecated. Please use tf.compat.v1.logging.set_verbosity instead.\n",
      "\u001b[0m\n",
      "\u001b[31mW0808 04:07:13.066101 139813359998720 deprecation_wrapper.py:119] From tf_mnist.py:6: The name tf.logging.ERROR is deprecated. Please use tf.compat.v1.logging.ERROR instead.\n",
      "\u001b[0m\n",
      "\u001b[31m2019-08-08 04:07:13,068 - runqi_demo - INFO - script load successfully!\u001b[0m\n",
      "\u001b[31mI0808 04:07:13.068343 139813359998720 tf_mnist.py:87] script load successfully!\u001b[0m\n",
      "\u001b[31m2019-08-08 04:07:13,068 - runqi_demo - INFO - tensorflow version is 1.14.0\u001b[0m\n",
      "\u001b[31mI0808 04:07:13.068513 139813359998720 tf_mnist.py:88] tensorflow version is 1.14.0\u001b[0m\n",
      "\u001b[31mEpoch 00001: saving model to s3://sagemaker-us-east-2-069799604450/tensorflow-training-2019-08-08-04-03-53-920/model/model.ckpt\u001b[0m\n",
      "\u001b[31m60000/60000 - 2s - loss: 4.5302 - acc: 0.8564\u001b[0m\n",
      "\u001b[31m2019-08-08 04:07:18,687 - runqi_demo - INFO - training job finished! \u001b[0m\n",
      "\u001b[31mI0808 04:07:18.687994 139813359998720 tf_mnist.py:102] training job finished! \u001b[0m\n",
      "\n",
      "2019-08-08 04:07:28 Completed - Training job completed\n",
      "Billable seconds: 101\n"
     ]
    }
   ],
   "source": [
    "train_data_dir = 'runqi_tf_script_demo/dataset/train'\n",
    "estimator.fit({'train':'s3://{}/{}'.format(bucket, train_data_dir)})"
   ]
  },
  {
   "cell_type": "markdown",
   "metadata": {},
   "source": [
    "# 部署模型"
   ]
  },
  {
   "cell_type": "code",
   "execution_count": 45,
   "metadata": {},
   "outputs": [
    {
     "name": "stderr",
     "output_type": "stream",
     "text": [
      "WARNING: Logging before flag parsing goes to stderr.\n",
      "W0808 04:12:17.987596 139891432716096 session.py:729] Using already existing model: tensorflow-training-2019-08-08-04-03-53-920\n"
     ]
    },
    {
     "name": "stdout",
     "output_type": "stream",
     "text": [
      "---------------------------------------------------------------------------------------!"
     ]
    }
   ],
   "source": [
    "# 使用Estimator直接部署\n",
    "predictor = estimator.deploy(initial_instance_count=1,\n",
    "                             instance_type='ml.p3.2xlarge',\n",
    "                             endpoint_type='tensorflow-serving')\n",
    "\n",
    "# 使用模型文件部署\n",
    "# from sagemaker.tensorflow.serving import Model\n",
    "# model = Model(model_data='s3://sagemaker-us-east-2-069799604450/sagemaker-tensorflow-scriptmode-2019-08-07-11-02-56-456/output/model.tar.gz', role=sagemaker.get_execution_role())\n",
    "# predictor = model.deploy(initial_instance_count=1,\n",
    "#                         instance_type='ml.c5.2xlarge')"
   ]
  },
  {
   "cell_type": "markdown",
   "metadata": {},
   "source": [
    "# 导入测试数据"
   ]
  },
  {
   "cell_type": "code",
   "execution_count": 51,
   "metadata": {},
   "outputs": [],
   "source": [
    "import boto3\n",
    "s3 = boto3.client('s3')\n",
    "s3.download_file('sagemaker-us-east-2-069799604450', 'runqi_tf_script_demo/dataset/test/test_x.npy', './test_x.npy')\n",
    "s3.download_file('sagemaker-us-east-2-069799604450', 'runqi_tf_script_demo/dataset/test/test_y.npy', './test_y.npy')\n",
    "test_x = np.load('./test_x.npy')\n",
    "test_y = np.load('./test_y.npy')"
   ]
  },
  {
   "cell_type": "markdown",
   "metadata": {},
   "source": [
    "# 使用endpoint进行预测"
   ]
  },
  {
   "cell_type": "code",
   "execution_count": 54,
   "metadata": {},
   "outputs": [
    {
     "data": {
      "text/plain": [
       "{'predictions': [[0.0,\n",
       "   0.0,\n",
       "   1.70789217e-36,\n",
       "   3.06112975e-26,\n",
       "   0.0,\n",
       "   0.0,\n",
       "   0.0,\n",
       "   1.0,\n",
       "   3.56053801e-32,\n",
       "   2.26501852e-19],\n",
       "  [0.0,\n",
       "   3.83586882e-20,\n",
       "   1.0,\n",
       "   9.70764268e-14,\n",
       "   0.0,\n",
       "   4.68934475e-28,\n",
       "   1.39734365e-35,\n",
       "   2.10739617e-37,\n",
       "   3.55746883e-25,\n",
       "   0.0],\n",
       "  [2.64367577e-33,\n",
       "   1.0,\n",
       "   1.39873211e-25,\n",
       "   0.0,\n",
       "   2.1024979e-37,\n",
       "   6.48278743e-33,\n",
       "   1.49968078e-19,\n",
       "   3.34499308e-18,\n",
       "   4.30519972e-30,\n",
       "   1.78129417e-28],\n",
       "  [0.967329502,\n",
       "   1.65729332e-07,\n",
       "   3.72090653e-07,\n",
       "   0.000131889683,\n",
       "   6.82859445e-06,\n",
       "   5.17950184e-06,\n",
       "   4.65301673e-06,\n",
       "   8.74194757e-06,\n",
       "   2.62236881e-06,\n",
       "   0.0325100608],\n",
       "  [3.22795256e-17,\n",
       "   0.0,\n",
       "   1.33770192e-27,\n",
       "   6.11282461e-27,\n",
       "   0.00127253612,\n",
       "   2.85840054e-32,\n",
       "   6.37711834e-13,\n",
       "   1.35222589e-13,\n",
       "   1.49261821e-24,\n",
       "   0.9987275],\n",
       "  [4.75098941e-31,\n",
       "   1.0,\n",
       "   1.59767025e-25,\n",
       "   0.0,\n",
       "   0.0,\n",
       "   1.62156727e-33,\n",
       "   6.27526179e-25,\n",
       "   1.11803034e-15,\n",
       "   1.42491898e-29,\n",
       "   8.89271756e-25],\n",
       "  [6.04800219e-18,\n",
       "   3.3351007e-23,\n",
       "   1.08977624e-16,\n",
       "   1.57280684e-17,\n",
       "   0.51334846,\n",
       "   1.10339384e-13,\n",
       "   2.33540032e-12,\n",
       "   5.91836942e-17,\n",
       "   0.486651,\n",
       "   4.77279627e-07],\n",
       "  [5.49507419e-11,\n",
       "   2.00692494e-08,\n",
       "   1.38366663e-09,\n",
       "   4.89340586e-08,\n",
       "   1.2432728e-05,\n",
       "   2.10056427e-07,\n",
       "   1.82660119e-06,\n",
       "   0.189236939,\n",
       "   1.03402874e-06,\n",
       "   0.810747504],\n",
       "  [3.3511858e-06,\n",
       "   8.45698091e-14,\n",
       "   1.3334894e-11,\n",
       "   1.14904669e-05,\n",
       "   9.02888431e-08,\n",
       "   5.16513592e-06,\n",
       "   0.999924779,\n",
       "   6.51622045e-09,\n",
       "   5.41856098e-05,\n",
       "   8.53514337e-07],\n",
       "  [2.82674275e-14,\n",
       "   0.00130535022,\n",
       "   2.13186357e-09,\n",
       "   8.22481168e-16,\n",
       "   5.70169868e-05,\n",
       "   6.05334753e-06,\n",
       "   9.93711537e-12,\n",
       "   0.00504393922,\n",
       "   1.35858295e-06,\n",
       "   0.993586361]]}"
      ]
     },
     "execution_count": 54,
     "metadata": {},
     "output_type": "execute_result"
    }
   ],
   "source": [
    "predictor.predict(test_x[0:10])"
   ]
  },
  {
   "cell_type": "code",
   "execution_count": null,
   "metadata": {},
   "outputs": [],
   "source": []
  }
 ],
 "metadata": {
  "kernelspec": {
   "display_name": "conda_tensorflow_p36",
   "language": "python",
   "name": "conda_tensorflow_p36"
  },
  "language_info": {
   "codemirror_mode": {
    "name": "ipython",
    "version": 3
   },
   "file_extension": ".py",
   "mimetype": "text/x-python",
   "name": "python",
   "nbconvert_exporter": "python",
   "pygments_lexer": "ipython3",
   "version": "3.6.5"
  }
 },
 "nbformat": 4,
 "nbformat_minor": 4
}
